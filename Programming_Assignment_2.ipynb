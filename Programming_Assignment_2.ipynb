{
 "cells": [
  {
   "cell_type": "code",
   "execution_count": 1,
   "id": "a00dc123",
   "metadata": {},
   "outputs": [],
   "source": [
    "#Programming_Assignment_1\n",
    "#1.\tWrite a Python program to convert kilometers to miles?"
   ]
  },
  {
   "cell_type": "code",
   "execution_count": 12,
   "id": "ecc9661a",
   "metadata": {},
   "outputs": [
    {
     "name": "stdout",
     "output_type": "stream",
     "text": [
      "enter the kilometers to convert into Miles: 100\n",
      "No of Miles for given Kilometers are:  62.137100000000004\n"
     ]
    }
   ],
   "source": [
    "#value tp convert Miles into Kilometers\n",
    "conv_val = 0.621371\n",
    "kms= int(input(\"enter the kilometers to convert into Miles: \"))\n",
    "Miles = conv_val*kms\n",
    "print(\"No of Miles for given Kilometers are: \",Miles)"
   ]
  },
  {
   "cell_type": "code",
   "execution_count": 13,
   "id": "6bf8f4d9",
   "metadata": {},
   "outputs": [],
   "source": [
    "#2.\tWrite a Python program to convert Celsius to Fahrenheit?"
   ]
  },
  {
   "cell_type": "code",
   "execution_count": 2,
   "id": "8e27a02e",
   "metadata": {},
   "outputs": [
    {
     "name": "stdout",
     "output_type": "stream",
     "text": [
      "enter celsius value to convert: 45\n",
      "Fahrenheit value is:  113.0\n"
     ]
    }
   ],
   "source": [
    "celsius_val = float(input(\"enter celsius value to convert: \"))\n",
    "Fahrenheit_val = (celsius_val * 1.8) + 32\n",
    "print(\"Fahrenheit value is: \",Fahrenheit_val)"
   ]
  },
  {
   "cell_type": "code",
   "execution_count": 6,
   "id": "2fa5d5c4",
   "metadata": {},
   "outputs": [
    {
     "name": "stdout",
     "output_type": "stream",
     "text": [
      "   December 2022\n",
      "Mo Tu We Th Fr Sa Su\n",
      "          1  2  3  4\n",
      " 5  6  7  8  9 10 11\n",
      "12 13 14 15 16 17 18\n",
      "19 20 21 22 23 24 25\n",
      "26 27 28 29 30 31\n",
      "\n",
      "                                  2022\n",
      "\n",
      "      January                   February                   March\n",
      "Mo Tu We Th Fr Sa Su      Mo Tu We Th Fr Sa Su      Mo Tu We Th Fr Sa Su\n",
      "                1  2          1  2  3  4  5  6          1  2  3  4  5  6\n",
      " 3  4  5  6  7  8  9       7  8  9 10 11 12 13       7  8  9 10 11 12 13\n",
      "10 11 12 13 14 15 16      14 15 16 17 18 19 20      14 15 16 17 18 19 20\n",
      "17 18 19 20 21 22 23      21 22 23 24 25 26 27      21 22 23 24 25 26 27\n",
      "24 25 26 27 28 29 30      28                        28 29 30 31\n",
      "31\n",
      "\n",
      "       April                      May                       June\n",
      "Mo Tu We Th Fr Sa Su      Mo Tu We Th Fr Sa Su      Mo Tu We Th Fr Sa Su\n",
      "             1  2  3                         1             1  2  3  4  5\n",
      " 4  5  6  7  8  9 10       2  3  4  5  6  7  8       6  7  8  9 10 11 12\n",
      "11 12 13 14 15 16 17       9 10 11 12 13 14 15      13 14 15 16 17 18 19\n",
      "18 19 20 21 22 23 24      16 17 18 19 20 21 22      20 21 22 23 24 25 26\n",
      "25 26 27 28 29 30         23 24 25 26 27 28 29      27 28 29 30\n",
      "                          30 31\n",
      "\n",
      "        July                     August                  September\n",
      "Mo Tu We Th Fr Sa Su      Mo Tu We Th Fr Sa Su      Mo Tu We Th Fr Sa Su\n",
      "             1  2  3       1  2  3  4  5  6  7                1  2  3  4\n",
      " 4  5  6  7  8  9 10       8  9 10 11 12 13 14       5  6  7  8  9 10 11\n",
      "11 12 13 14 15 16 17      15 16 17 18 19 20 21      12 13 14 15 16 17 18\n",
      "18 19 20 21 22 23 24      22 23 24 25 26 27 28      19 20 21 22 23 24 25\n",
      "25 26 27 28 29 30 31      29 30 31                  26 27 28 29 30\n",
      "\n",
      "      October                   November                  December\n",
      "Mo Tu We Th Fr Sa Su      Mo Tu We Th Fr Sa Su      Mo Tu We Th Fr Sa Su\n",
      "                1  2          1  2  3  4  5  6                1  2  3  4\n",
      " 3  4  5  6  7  8  9       7  8  9 10 11 12 13       5  6  7  8  9 10 11\n",
      "10 11 12 13 14 15 16      14 15 16 17 18 19 20      12 13 14 15 16 17 18\n",
      "17 18 19 20 21 22 23      21 22 23 24 25 26 27      19 20 21 22 23 24 25\n",
      "24 25 26 27 28 29 30      28 29 30                  26 27 28 29 30 31\n",
      "31\n",
      "\n"
     ]
    }
   ],
   "source": [
    "#3.\tWrite a Python program to display calendar?\n",
    "import calendar\n",
    "year=2022\n",
    "month=12\n",
    "print(calendar.month(year,month))\n",
    "print(calendar.calendar(year))"
   ]
  },
  {
   "cell_type": "code",
   "execution_count": 16,
   "id": "c928aead",
   "metadata": {
    "scrolled": true
   },
   "outputs": [
    {
     "name": "stdout",
     "output_type": "stream",
     "text": [
      "enter a value: 2\n",
      "enter b value: 2\n",
      "enter c value: 1\n",
      "Positive X value is:  (-0.5+0.5j)\n",
      "Negative X value is:  (-0.5-0.5j)\n"
     ]
    }
   ],
   "source": [
    "#4.\tWrite a Python program to solve quadratic equation?\n",
    "import cmath\n",
    "a=int(input(\"enter a value: \"))\n",
    "b=int(input(\"enter b value: \"))\n",
    "c=int(input(\"enter c value: \"))\n",
    "val1 = b**2 - 4*a*c\n",
    "squareroot_val = cmath.sqrt(val1)\n",
    "quad_eq_postive_val = (-(b) + squareroot_val)/(2*a)\n",
    "quad_eq_negative_val = (-(b) - squareroot_val)/(2*a)\n",
    "print(\"Positive X value is: \",quad_eq_postive_val)\n",
    "print(\"Negative X value is: \",quad_eq_negative_val)"
   ]
  },
  {
   "cell_type": "code",
   "execution_count": 17,
   "id": "f82614bc",
   "metadata": {},
   "outputs": [
    {
     "name": "stdout",
     "output_type": "stream",
     "text": [
      "enter value for a: 12\n",
      "enter value for b: 45\n",
      "a value is : 45\n",
      "b value is : 12\n",
      "enter c value: Inueron\n",
      "enter d value: Intelligence\n",
      "c value is:  Intelligence\n",
      "d value is:  Inueron\n"
     ]
    }
   ],
   "source": [
    "#5.\tWrite a Python program to swap two variables without temp variable?\n",
    "a=int(input(\"enter value for a: \"))\n",
    "b=int(input(\"enter value for b: \"))\n",
    "a=a+b\n",
    "b=a-b\n",
    "a=a-b\n",
    "print(\"a value is :\",a)\n",
    "print(\"b value is :\",b)\n",
    "#2nd method:\n",
    "c=input(\"enter c value: \")\n",
    "d=input(\"enter d value: \")\n",
    "c,d=d,c\n",
    "print(\"c value is: \",c)\n",
    "print(\"d value is: \",d)"
   ]
  },
  {
   "cell_type": "code",
   "execution_count": null,
   "id": "1763f3b1",
   "metadata": {},
   "outputs": [],
   "source": []
  }
 ],
 "metadata": {
  "kernelspec": {
   "display_name": "Python 3",
   "language": "python",
   "name": "python3"
  },
  "language_info": {
   "codemirror_mode": {
    "name": "ipython",
    "version": 3
   },
   "file_extension": ".py",
   "mimetype": "text/x-python",
   "name": "python",
   "nbconvert_exporter": "python",
   "pygments_lexer": "ipython3",
   "version": "3.8.8"
  }
 },
 "nbformat": 4,
 "nbformat_minor": 5
}
