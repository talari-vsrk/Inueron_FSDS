{
 "cells": [
  {
   "cell_type": "code",
   "execution_count": 16,
   "id": "18946b62",
   "metadata": {},
   "outputs": [
    {
     "name": "stdout",
     "output_type": "stream",
     "text": [
      "enter a number to calculate factorial : 5\n",
      "120\n",
      "enter a number to calculate factorial : 5\n",
      "120\n"
     ]
    }
   ],
   "source": [
    "#1.\tWrite a Python Program to Find the Factorial of a Number?\n",
    "num=int(input(\"enter a number to calculate factorial : \"))\n",
    "j=1\n",
    "factorial =1\n",
    "for i in range(1,num+1):\n",
    "    factorial = factorial*i\n",
    "    j=j+1\n",
    "print(factorial)\n",
    "\n",
    "#2nd method\n",
    "import math\n",
    "num1=int(input(\"enter a number to calculate factorial : \"))\n",
    "factorial1 = math.factorial(num1)\n",
    "print(factorial1)\n"
   ]
  },
  {
   "cell_type": "code",
   "execution_count": 74,
   "id": "059cdbc1",
   "metadata": {},
   "outputs": [
    {
     "name": "stdout",
     "output_type": "stream",
     "text": [
      "Enter value to print multiplication table12\n",
      "12 x 1  =  12\n",
      "12 x 2  =  24\n",
      "12 x 3  =  36\n",
      "12 x 4  =  48\n",
      "12 x 5  =  60\n",
      "12 x 6  =  72\n",
      "12 x 7  =  84\n",
      "12 x 8  =  96\n",
      "12 x 9  =  108\n",
      "12 x 10  =  120\n",
      "12 x 11  =  132\n",
      "12 x 12  =  144\n"
     ]
    }
   ],
   "source": [
    "#2.\tWrite a Python Program to Display the multiplication Table?\n",
    "num22 = int(input(\"Enter value to print multiplication table\"))\n",
    "j=num22\n",
    "for i in range(1,13):\n",
    "    val=num22*i\n",
    "    print(num22,'x',i,' = ',val)"
   ]
  },
  {
   "cell_type": "code",
   "execution_count": 71,
   "id": "906c08e3",
   "metadata": {},
   "outputs": [
    {
     "name": "stdout",
     "output_type": "stream",
     "text": [
      "enter no.of fibonacci sequences: 10\n",
      "0\n",
      "1\n",
      "1\n",
      "2\n",
      "3\n",
      "5\n",
      "8\n",
      "13\n",
      "21\n",
      "34\n"
     ]
    }
   ],
   "source": [
    "#3.\tWrite a Python Program to Print the Fibonacci sequence?\n",
    "seq1=int(input(\"enter no.of fibonacci sequences: \"))\n",
    "x=0\n",
    "y=1\n",
    "print(x)\n",
    "for i in range(1,seq1):\n",
    "    z=x+y\n",
    "    print(z)\n",
    "    y=x\n",
    "    x=z"
   ]
  },
  {
   "cell_type": "code",
   "execution_count": 75,
   "id": "a9e0dd3a",
   "metadata": {},
   "outputs": [
    {
     "name": "stdout",
     "output_type": "stream",
     "text": [
      "Enter a number: 370\n",
      "370 is an Armstrong number\n"
     ]
    }
   ],
   "source": [
    "#4.\tWrite a Python Program to Check Armstrong Number?\n",
    "\n",
    "num4 = int(input(\"Enter a number: \"))\n",
    "\n",
    "sum = 0\n",
    "temp = num4\n",
    "while temp > 0:\n",
    "   digit = temp % 10\n",
    "   sum += digit ** 3\n",
    "   temp //= 10\n",
    "\n",
    "if num4 == sum:\n",
    "   print(num4,\"is an Armstrong number\")\n",
    "else:\n",
    "   print(num4,\"is not an Armstrong number\")"
   ]
  },
  {
   "cell_type": "code",
   "execution_count": 25,
   "id": "42f64fcb",
   "metadata": {},
   "outputs": [
    {
     "name": "stdout",
     "output_type": "stream",
     "text": [
      "Enter a number: 1000\n",
      "1 is an Armstrong number\n",
      "153 is an Armstrong number\n",
      "370 is an Armstrong number\n",
      "371 is an Armstrong number\n",
      "407 is an Armstrong number\n",
      "total no of armstrong number under  1000 are 5\n"
     ]
    }
   ],
   "source": [
    "#5.\tWrite a Python Program to Find Armstrong Number in an Interval?\n",
    "limit5 = int(input(\"Enter a number: \"))\n",
    "incr = 0\n",
    "for num5 in range(1,limit5):\n",
    "    sum5 = 0\n",
    "    temp5 = num5\n",
    "    while temp5 > 0:\n",
    "        digit5 = temp5 % 10\n",
    "        sum5 += digit5 ** 3\n",
    "        temp5 //= 10\n",
    "    if num5 == sum5:\n",
    "        print(num5,\"is an Armstrong number\")\n",
    "        incr= incr+1\n",
    "print(\"total no of armstrong number under \",limit5,\"are\",incr)"
   ]
  },
  {
   "cell_type": "code",
   "execution_count": 33,
   "id": "88f08d47",
   "metadata": {},
   "outputs": [
    {
     "name": "stdout",
     "output_type": "stream",
     "text": [
      "enter the natural number limit value: 10\n",
      "Sum of 10 natural numbers is:  55\n",
      "enter the natural number limit value: 10\n",
      "sum of  10 nutural number is : 55.0\n"
     ]
    }
   ],
   "source": [
    "#6.\tWrite a Python Program to Find the Sum of Natural Numbers?\n",
    "n1=int(input(\"enter the natural number limit value: \"))\n",
    "sumval=0\n",
    "for i in range(1,n1+1):\n",
    "    sumval=sumval+i\n",
    "print(\"Sum of\",n1,\"natural numbers is: \",sumval)\n",
    "#2nd method\n",
    "n1=int(input(\"enter the natural number limit value: \"))\n",
    "sumval1=(n1*(n1+1))*1/2\n",
    "print(\"sum of \",n1,\"nutural number is :\",sumval1)"
   ]
  },
  {
   "cell_type": "code",
   "execution_count": null,
   "id": "fac3f4e5",
   "metadata": {},
   "outputs": [],
   "source": []
  }
 ],
 "metadata": {
  "kernelspec": {
   "display_name": "Python 3",
   "language": "python",
   "name": "python3"
  },
  "language_info": {
   "codemirror_mode": {
    "name": "ipython",
    "version": 3
   },
   "file_extension": ".py",
   "mimetype": "text/x-python",
   "name": "python",
   "nbconvert_exporter": "python",
   "pygments_lexer": "ipython3",
   "version": "3.8.8"
  }
 },
 "nbformat": 4,
 "nbformat_minor": 5
}
