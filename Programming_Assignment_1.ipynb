{
 "cells": [
  {
   "cell_type": "code",
   "execution_count": 1,
   "id": "346ef6d5",
   "metadata": {},
   "outputs": [],
   "source": [
    "#1.\tWrite a Python program to print \"Hello Python\"?"
   ]
  },
  {
   "cell_type": "code",
   "execution_count": 2,
   "id": "062f014f",
   "metadata": {},
   "outputs": [
    {
     "name": "stdout",
     "output_type": "stream",
     "text": [
      "Hello Python\n"
     ]
    }
   ],
   "source": [
    "print(\"Hello Python\")"
   ]
  },
  {
   "cell_type": "code",
   "execution_count": 3,
   "id": "d724017b",
   "metadata": {},
   "outputs": [
    {
     "name": "stdout",
     "output_type": "stream",
     "text": [
      "Hello Python\n"
     ]
    }
   ],
   "source": [
    "str = \"Hello Python\"\n",
    "print(str)"
   ]
  },
  {
   "cell_type": "code",
   "execution_count": 4,
   "id": "35464c80",
   "metadata": {},
   "outputs": [],
   "source": [
    "#2.\tWrite a Python program to do arithmetical operations addition and division.?"
   ]
  },
  {
   "cell_type": "code",
   "execution_count": 5,
   "id": "3b8a150b",
   "metadata": {},
   "outputs": [
    {
     "name": "stdout",
     "output_type": "stream",
     "text": [
      "enter a value: 10\n",
      "enter b value: 5\n",
      "addition of a & B is : 15\n",
      "division of a & b:  2.0\n"
     ]
    }
   ],
   "source": [
    "a = int(input(\"enter a value: \"))\n",
    "b = int(input(\"enter b value: \"))\n",
    "addition =  a + b\n",
    "print(\"addition of a & B is :\",addition)\n",
    "division = a/b\n",
    "print(\"division of a & b: \",division)"
   ]
  },
  {
   "cell_type": "code",
   "execution_count": 6,
   "id": "eab5ece1",
   "metadata": {},
   "outputs": [
    {
     "name": "stdout",
     "output_type": "stream",
     "text": [
      "enter base value: 10\n",
      "enter height value: 15\n",
      "area of triangle is:  75.0\n"
     ]
    }
   ],
   "source": [
    "#3.\tWrite a Python program to find the area of a triangle?\n",
    "base = int(input(\"enter base value: \"))\n",
    "height = int(input(\"enter height value: \"))\n",
    "area = (.5)*(base*height)\n",
    "print(\"area of triangle is: \",area)"
   ]
  },
  {
   "cell_type": "code",
   "execution_count": 7,
   "id": "baebcbde",
   "metadata": {},
   "outputs": [
    {
     "name": "stdout",
     "output_type": "stream",
     "text": [
      "enter value for a: 88\n",
      "enter value for b: 99\n",
      "a value is : 99\n",
      "b value is : 88\n",
      "enter c value: Rama\n",
      "enter d value: Krishna\n",
      "c value is:  Krishna\n",
      "d value is:  Rama\n"
     ]
    }
   ],
   "source": [
    "#4.\tWrite a Python program to swap two variables?\n",
    "a=int(input(\"enter value for a: \"))\n",
    "b=int(input(\"enter value for b: \"))\n",
    "a=a+b\n",
    "b=a-b\n",
    "a=a-b\n",
    "print(\"a value is :\",a)\n",
    "print(\"b value is :\",b)\n",
    "#2nd method:\n",
    "c=input(\"enter c value: \")\n",
    "d=input(\"enter d value: \")\n",
    "c,d=d,c\n",
    "print(\"c value is: \",c)\n",
    "print(\"d value is: \",d)"
   ]
  },
  {
   "cell_type": "code",
   "execution_count": 8,
   "id": "35e28fb6",
   "metadata": {},
   "outputs": [
    {
     "name": "stdout",
     "output_type": "stream",
     "text": [
      "random value is:  22\n"
     ]
    }
   ],
   "source": [
    "#5.\tWrite a Python program to generate a random number?\n",
    "import random\n",
    "print(\"random value is: \",random.randint(5,55))"
   ]
  },
  {
   "cell_type": "code",
   "execution_count": null,
   "id": "3bd7c39f",
   "metadata": {},
   "outputs": [],
   "source": []
  }
 ],
 "metadata": {
  "kernelspec": {
   "display_name": "Python 3",
   "language": "python",
   "name": "python3"
  },
  "language_info": {
   "codemirror_mode": {
    "name": "ipython",
    "version": 3
   },
   "file_extension": ".py",
   "mimetype": "text/x-python",
   "name": "python",
   "nbconvert_exporter": "python",
   "pygments_lexer": "ipython3",
   "version": "3.8.8"
  }
 },
 "nbformat": 4,
 "nbformat_minor": 5
}
